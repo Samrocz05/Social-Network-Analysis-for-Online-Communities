{
 "cells": [
  {
   "cell_type": "code",
   "execution_count": null,
   "id": "a054d5a1",
   "metadata": {},
   "outputs": [],
   "source": [
    "import pandas as pd\n",
    "import networkx as nx\n",
    "import matplotlib.pyplot as plt\n",
    "from community import community_louvain\n",
    "from collections import Counter\n",
    "\n",
    "file_path = 'com-youtube.ungraph.txt'\n",
    "df = pd.read_csv(file_path, sep='\\t', header=None, names=['Source', 'Target'], dtype=str)\n",
    "\n",
    "G = nx.Graph()\n",
    "edges = df.to_records(index=False)\n",
    "G.add_edges_from(edges)\n",
    "\n",
    "print(\"Number of nodes:\", G.number_of_nodes())\n",
    "print(\"Number of edges:\", G.number_of_edges())\n",
    "print(\"Density of the graph:\", nx.density(G))\n",
    "\n",
    "sampled_nodes = list(G.nodes)[:500]  \n",
    "H = G.subgraph(sampled_nodes)\n",
    "\n",
    "print(\"Average clustering coefficient (on sampled subgraph):\", nx.average_clustering(H))\n",
    "\n",
    "degree_centrality = nx.degree_centrality(G)\n",
    "sorted_degree_centrality = sorted(degree_centrality.items(), key=lambda x: x[1], reverse=True)\n",
    "print(\"\\nTop 5 influential users by degree centrality:\")\n",
    "for user, centrality in sorted_degree_centrality[:5]:\n",
    "    print(f\"User: {user}, Degree Centrality: {centrality:.4f}\")\n",
    "\n",
    "partition = community_louvain.best_partition(G)\n",
    "print(\"\\nNumber of communities detected:\", len(set(partition.values())))\n",
    "\n",
    "pos = nx.spring_layout(G)\n",
    "plt.figure(figsize=(12, 12))\n",
    "nx.draw_networkx_nodes(G, pos, node_color=[partition[node] for node in G.nodes()], cmap=plt.cm.RdYlBu, node_size=50, alpha=0.8)\n",
    "nx.draw_networkx_edges(G, pos, alpha=0.5)\n",
    "plt.title('Community Structure of the Social Network')\n",
    "plt.show()\n",
    "\n",
    "community_counts = Counter(partition.values())\n",
    "print(\"\\nCommunity sizes:\")\n",
    "for community, count in community_counts.items():\n",
    "    print(f\"Community {community}: {count} nodes\")\n"
   ]
  },
  {
   "cell_type": "code",
   "execution_count": null,
   "id": "c8c25eaa",
   "metadata": {},
   "outputs": [],
   "source": []
  }
 ],
 "metadata": {
  "kernelspec": {
   "display_name": "Python 3 (ipykernel)",
   "language": "python",
   "name": "python3"
  },
  "language_info": {
   "codemirror_mode": {
    "name": "ipython",
    "version": 3
   },
   "file_extension": ".py",
   "mimetype": "text/x-python",
   "name": "python",
   "nbconvert_exporter": "python",
   "pygments_lexer": "ipython3",
   "version": "3.11.4"
  }
 },
 "nbformat": 4,
 "nbformat_minor": 5
}
